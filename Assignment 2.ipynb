{
 "cells": [
  {
   "cell_type": "markdown",
   "metadata": {},
   "source": [
    "# Task 1:"
   ]
  },
  {
   "cell_type": "markdown",
   "metadata": {},
   "source": [
    "**1.1 Write a Python Program to implement your own myreduce() function which works exactly like Python's built-in function reduce()**"
   ]
  },
  {
   "cell_type": "code",
   "execution_count": 1,
   "metadata": {},
   "outputs": [
    {
     "data": {
      "text/plain": [
       "25"
      ]
     },
     "execution_count": 1,
     "metadata": {},
     "output_type": "execute_result"
    }
   ],
   "source": [
    "def myreduce(function, value):\n",
    "    result = value[0]\n",
    "    for item in value[1:]:\n",
    "        result = function(result, item)\n",
    "    return result\n",
    "\n",
    "def add(x,y): \n",
    "    return x+y\n",
    "myreduce(add, [1,3,5,7,9])"
   ]
  },
  {
   "cell_type": "markdown",
   "metadata": {},
   "source": [
    "**1.2 Write a Python program to implement your own myfilter() function which works exactly like Python's built-in function filter()**"
   ]
  },
  {
   "cell_type": "code",
   "execution_count": 2,
   "metadata": {},
   "outputs": [
    {
     "data": {
      "text/plain": [
       "[1, 2, 3, 0]"
      ]
     },
     "execution_count": 2,
     "metadata": {},
     "output_type": "execute_result"
    }
   ],
   "source": [
    "def myfilter(function, value):\n",
    "    result = []\n",
    "    for item in value:\n",
    "        if function(item):\n",
    "            result.append(item)\n",
    "    return result\n",
    "\n",
    "def ispositive(n):\n",
    "    if (n >= 0): \n",
    "        return True \n",
    "    else: \n",
    "        return False\n",
    "\n",
    "def isnegative(n):\n",
    "    if (n < 0): \n",
    "        return True \n",
    "    else: \n",
    "        return False\n",
    "    \n",
    "myfilter(ispositive, [1,2,3,0,-9,-1])"
   ]
  },
  {
   "cell_type": "markdown",
   "metadata": {},
   "source": [
    "**2. Implement List comprehensions to produce the following lists. \n",
    " Write List comprehensions to produce the following Lists** \n",
    "```\n",
    "['A', 'C', 'A', 'D', 'G', 'I', ’L’, ‘ D’] \n",
    " \n",
    "['x', 'xx', 'xxx', 'xxxx', 'y', 'yy', 'yyy', 'yyyy', 'z', 'zz', 'zzz', 'zzzz'] \n",
    " \n",
    "['x', 'y', 'z', 'xx', 'yy', 'zz', 'xx', 'yy', 'zz', 'xxxx', 'yyyy', 'zzzz'] \n",
    " \n",
    "[[2], [3], [4], [3], [4], [5], [4], [5], [6]] \n",
    " \n",
    "[[2, 3, 4, 5], [3, 4, 5, 6], [4, 5, 6, 7], [5, 6, 7, 8]] \n",
    " \n",
    "[(1, 1), (2, 1), (3, 1), (1, 2), (2, 2), (3, 2), (1, 3), (2, 3), (3, 3)]\n",
    "```"
   ]
  },
  {
   "cell_type": "code",
   "execution_count": 3,
   "metadata": {},
   "outputs": [
    {
     "name": "stdout",
     "output_type": "stream",
     "text": [
      "['A', 'C', 'A', 'D', 'G', 'I', 'L', 'D']\n",
      "['x', 'xx', 'xxx', 'xxxx', 'y', 'yy', 'yyy', 'yyyy', 'z', 'zz', 'zzz', 'zzzz']\n",
      "['x', 'y', 'z', 'xx', 'yy', 'zz', 'xxx', 'yyy', 'zzz', 'xxxx', 'yyyy', 'zzzz']\n",
      "[[2], [3], [4], [3], [4], [5], [4], [5], [6]]\n",
      "[[2, 3, 4, 5], [3, 4, 5, 6], [4, 5, 6, 7], [5, 6, 7, 8]]\n",
      "[(1, 1), (2, 1), (3, 1), (1, 2), (2, 2), (3, 2), (1, 3), (2, 3), (3, 3)]\n"
     ]
    }
   ],
   "source": [
    "words = \"ACADGILD\"\n",
    "result= [ i for i in words ]\n",
    "print(str(result))\n",
    "\n",
    "word= ['x','y','z']\n",
    "result = [ i*n for i in word for n in range(1,5) ]\n",
    "print(str(result))\n",
    "\n",
    "word= ['x','y','z']\n",
    "result = [ i*n for n in range(1,5) for i in word  ]\n",
    "print(str(result))\n",
    "\n",
    "number = [2,3,4]\n",
    "result = [ [i+n] for i in number for n in range(0,3)]\n",
    "print(str(result))\n",
    "\n",
    "number = [2,3,4,5]\n",
    "result = [ [i+n for i in number] for n in range(0,4)  ]\n",
    "print(str(result))\n",
    "\n",
    "number = [1,2,3]\n",
    "result = [ (i,n) for n in number for i in number]\n",
    "print(str(result))"
   ]
  },
  {
   "cell_type": "markdown",
   "metadata": {},
   "source": [
    "**3. Implement a function longestWord() that takes a list of words and returns the longest one**"
   ]
  },
  {
   "cell_type": "code",
   "execution_count": 11,
   "metadata": {},
   "outputs": [
    {
     "name": "stdout",
     "output_type": "stream",
     "text": [
      "enter comma seperated words : c++,Python,Java\n",
      "longest word : Python\n"
     ]
    }
   ],
   "source": [
    "def longest_word():\n",
    "    a = input(\"enter comma seperated words : \")\n",
    "    word = a.split(\",\")\n",
    "    \n",
    "    y = []\n",
    "    \n",
    "    for i in range (0, len(word)):\n",
    "        y.append(len(word[i]))\n",
    "    print(\"longest word :\",word[y.index(max(y))])\n",
    "\n",
    "longest_word()"
   ]
  },
  {
   "cell_type": "markdown",
   "metadata": {},
   "source": [
    "# Task 2:"
   ]
  },
  {
   "cell_type": "markdown",
   "metadata": {},
   "source": [
    "**1.1 Write a Python Program(with class concepts) to find the area of the triangle using the below formula.** \n",
    "```python\n",
    "area = (s*(s-a)*(s-b)*(s-c)) ** 0.5 \n",
    "``` \n",
    "**Function to take the length of the sides of triangle from user should be defined in the parent class and function to calculate the area should be defined in subclass.**"
   ]
  },
  {
   "cell_type": "code",
   "execution_count": 25,
   "metadata": {},
   "outputs": [
    {
     "name": "stdout",
     "output_type": "stream",
     "text": [
      "Enter length of first side : 8\n",
      "Enter length of second side : 9\n",
      "Enter length of third side : 4\n",
      "Area of the triangle is : 16.00\n"
     ]
    }
   ],
   "source": [
    "class Triangle:\n",
    " \n",
    "    def sides(self):\n",
    "        self.a = float(input(\"Enter length of first side : \"))\n",
    "        self.b = float(input(\"Enter length of second side : \"))\n",
    "        self.c = float(input(\"Enter length of third side : \"))\n",
    "\n",
    "class Area(Triangle):\n",
    "    def calculation(self):\n",
    "        s = (self.a + self.b + self.c) / 2\n",
    "        area = (s*(s-self.a)*(s-self.b)*(s-self.c)) ** 0.5\n",
    "        return area\n",
    "    \n",
    "t1= Area() \n",
    "t1.sides()\n",
    "a= t1.calculation()\n",
    "print(f'Area of the triangle is : {a:.2f}')"
   ]
  },
  {
   "cell_type": "markdown",
   "metadata": {},
   "source": [
    "**1.2 Write a function filter_long_words() that takes a list of words and an integer n and returns the list of words that are longer than n**"
   ]
  },
  {
   "cell_type": "code",
   "execution_count": 33,
   "metadata": {},
   "outputs": [
    {
     "name": "stdout",
     "output_type": "stream",
     "text": [
      "Enter comma seperated words: Machine Learning,Ineuron,AI\n",
      "Enter a integer: 3\n"
     ]
    },
    {
     "data": {
      "text/plain": [
       "['Machine Learning', 'Ineuron']"
      ]
     },
     "execution_count": 33,
     "metadata": {},
     "output_type": "execute_result"
    }
   ],
   "source": [
    "a=input(\"Enter comma seperated words: \")\n",
    "b=int(input(\"Enter a integer: \"))\n",
    "lists = a.split(\",\")\n",
    "\n",
    "def filter_long_words(lists, n):\n",
    "    return [ i for i in lists if len (i) > n ]\n",
    "\n",
    "filter_long_words(lists, b)"
   ]
  },
  {
   "cell_type": "markdown",
   "metadata": {},
   "source": [
    "**2.1 Write a Python program using function concept that maps  list of words into a list of integers representing the lengths of the corresponding words.** \n",
    "\n",
    " **Hint: If a list [ ab,cde,erty] is passed on to the python function output should come as [2,3,4] \n",
    " Here 2,3 and 4 are the lengths of the words in the list.**"
   ]
  },
  {
   "cell_type": "code",
   "execution_count": 34,
   "metadata": {},
   "outputs": [
    {
     "data": {
      "text/plain": [
       "[4, 7, 7, 8]"
      ]
     },
     "execution_count": 34,
     "metadata": {},
     "output_type": "execute_result"
    }
   ],
   "source": [
    "lists = ['data', 'science', 'machine', 'learning']\n",
    "\n",
    "def conversion(lists):\n",
    "    return [len(n) for n in lists]\n",
    "\n",
    "conversion(lists)"
   ]
  },
  {
   "cell_type": "markdown",
   "metadata": {},
   "source": [
    "**2.2 Write a Python function which takes a character (i.e. a string of length 1) and returns True if it is a vowel, False otherwise.**"
   ]
  },
  {
   "cell_type": "code",
   "execution_count": 1,
   "metadata": {},
   "outputs": [
    {
     "name": "stdout",
     "output_type": "stream",
     "text": [
      "Enter a character: F\n"
     ]
    },
    {
     "data": {
      "text/plain": [
       "False"
      ]
     },
     "execution_count": 1,
     "metadata": {},
     "output_type": "execute_result"
    }
   ],
   "source": [
    "def vowel(char):\n",
    "    vowels = ('a', 'e', 'i', 'o', 'u', 'A', 'E', 'I', 'O', 'U')\n",
    "    if char not in vowels:\n",
    "        return False\n",
    "    return True\n",
    "\n",
    "char = input(\"Enter a character: \")\n",
    "vowel(char)"
   ]
  }
 ],
 "metadata": {
  "kernelspec": {
   "display_name": "Python 3",
   "language": "python",
   "name": "python3"
  },
  "language_info": {
   "codemirror_mode": {
    "name": "ipython",
    "version": 3
   },
   "file_extension": ".py",
   "mimetype": "text/x-python",
   "name": "python",
   "nbconvert_exporter": "python",
   "pygments_lexer": "ipython3",
   "version": "3.7.3"
  }
 },
 "nbformat": 4,
 "nbformat_minor": 2
}
